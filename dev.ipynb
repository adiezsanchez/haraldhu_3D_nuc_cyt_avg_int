{
 "cells": [
  {
   "cell_type": "code",
   "execution_count": null,
   "id": "d2cf5e1f",
   "metadata": {},
   "outputs": [],
   "source": [
    "from utils import list_images, read_image, extract_pixel_size, correct_pixel_size, make_isotropic, remove_labels_touching_edge, simulate_cytoplasm\n",
    "from pathlib import Path\n",
    "import napari\n",
    "import pyclesperanto_prototype as cle\n",
    "from skimage.measure import regionprops_table\n",
    "import pandas as pd\n",
    "\n",
    "cle.select_device(\"RTX\")"
   ]
  },
  {
   "cell_type": "code",
   "execution_count": null,
   "id": "23a04af9",
   "metadata": {},
   "outputs": [],
   "source": [
    "# Copy the path where your images are stored, you can use absolute or relative paths to point at other disk locations\n",
    "directory_path = Path(\"./raw_data/condition_1\")\n",
    "\n",
    "# Define the channels you want to analyze using the following structure:\n",
    "# markers = [(channel_name, channel_nr),(..., ...)]\n",
    "# Remember in Python one starts counting from 0, so your first channel will be 0\n",
    "# i.e. markers = [(\"c3neo\", 0), (\"myc-tag\", 1)]\n",
    "\n",
    "markers = [(\"c3neo\", 0), (\"myc-tag\", 1)]\n",
    "nuclei_channel = 0\n",
    "\n",
    "# Image size reduction (downsampling) to improve processing times (slicing, not lossless compression)\n",
    "# Now, in addition to xy, you can downsample across your z-stack\n",
    "slicing_factor_xy = 4 # Use 2 or 4 for downsampling in xy (None for lossless)\n",
    "slicing_factor_z = None # Use 2 to select 1 out of every 2 z-slices\n",
    "\n",
    "# Iterate through the .czi and .nd2 files in the raw_data directory\n",
    "images = list_images(directory_path)\n",
    "\n",
    "images"
   ]
  },
  {
   "cell_type": "code",
   "execution_count": null,
   "id": "11703fe5",
   "metadata": {},
   "outputs": [],
   "source": [
    "image = images[0]\n",
    "\n",
    "img, filename = read_image(image, slicing_factor_xy, slicing_factor_z)\n",
    "\n",
    "# Obtain xyz pixel (voxel) size from image metadata (nd2 files)\n",
    "voxel_size = extract_pixel_size(images[0])\n",
    "\n",
    "# Correct pixel size if slicing is applied\n",
    "pixel_size_x, pixel_size_y, voxel_size_z = correct_pixel_size(voxel_size, slicing_factor_xy, slicing_factor_z)\n",
    "\n",
    "nuclei_resampled = make_isotropic(img[nuclei_channel], pixel_size_x, pixel_size_y, voxel_size_z)\n",
    "\n",
    "# Remove background with a top_hat_filter\n",
    "#background_subtracted = cle.top_hat_box(nuclei_resampled, radius_x=5, radius_y=5, radius_z=5)\n",
    "\n",
    "# Apply gaussian blur to prevent the formation of holes upon labeling\n",
    "post_gaussian = cle.gaussian_blur(nuclei_resampled, sigma_x=2, sigma_y=2, sigma_z=2)\n",
    "\n",
    "# Voronoi-Otsu labeling\n",
    "segmented = cle.voronoi_otsu_labeling(post_gaussian, spot_sigma=10, outline_sigma=1)\n",
    "\n",
    "# Close holes in labels to avoid false emtpy volumes within the nuclei\n",
    "segmented = cle.closing_labels(segmented, radius=5)\n",
    "\n",
    "# Remove labels touching image xy borders\n",
    "nuclei_labels = remove_labels_touching_edge(segmented.get())\n",
    "\n",
    "# Simulate cytoplasm\n",
    "cytoplasm_labels = simulate_cytoplasm(nuclei_labels, dilation_radius=10)"
   ]
  },
  {
   "cell_type": "code",
   "execution_count": null,
   "id": "46e3f0d0",
   "metadata": {},
   "outputs": [],
   "source": [
    "viewer = napari.Viewer(ndisplay=2)\n",
    "\n",
    "viewer.add_image(nuclei_resampled)\n",
    "viewer.add_labels(nuclei_labels)\n",
    "viewer.add_labels(cytoplasm_labels)"
   ]
  },
  {
   "cell_type": "code",
   "execution_count": null,
   "id": "c32c0633",
   "metadata": {},
   "outputs": [],
   "source": [
    "# Create an  empty list to hold the per channel info\n",
    "props_list = []\n",
    "\n",
    "# Create a dictionary containing all image descriptors\n",
    "descriptor_dict = {\"filename\": filename, \"folder_name\": \"PLACEHOLDER\"}\n",
    "\n",
    "# Loop through each channel, resample it and extract the average intensity within nuclei and cytoplasm\n",
    "for channel_name, ch_nr in markers:\n",
    "    print(f\"Analyzing channel: {channel_name}\")\n",
    "\n",
    "    # Resample marker and transform into numpy array\n",
    "    marker_resampled = make_isotropic(img[ch_nr], pixel_size_x, pixel_size_y, voxel_size_z).get()\n",
    "\n",
    "    # Extract intensity information from each marker channel\n",
    "    nuclei_props = regionprops_table(label_image=nuclei_labels,\n",
    "                            intensity_image=marker_resampled,\n",
    "                            properties=[\"label\", \"intensity_mean\"])\n",
    "    \n",
    "    # Extract intensity information from each marker channel\n",
    "    cyto_props = regionprops_table(label_image=cytoplasm_labels,\n",
    "                            intensity_image=marker_resampled,\n",
    "                            properties=[\"label\", \"intensity_mean\"])\n",
    "    \n",
    "    # Convert to dataframe\n",
    "    nuclei_props_df = pd.DataFrame(nuclei_props)\n",
    "    cyto_props_df = pd.DataFrame(cyto_props)\n",
    "\n",
    "    # Rename intensity_mean column to indicate the specific image\n",
    "    nuclei_props_df.rename(columns={\"intensity_mean\": f\"nuclei_{channel_name}_avg_int\"}, inplace=True)\n",
    "    cyto_props_df.rename(columns={\"intensity_mean\": f\"cyto_{channel_name}_avg_int\"}, inplace=True)\n",
    "\n",
    "    # Merge nuclei and cyto on label\n",
    "    props_df = pd.merge(nuclei_props_df, cyto_props_df, on='label')\n",
    "\n",
    "    # Append each props_df to props_list\n",
    "    props_list.append(props_df)\n",
    "\n",
    "# Initialize the df with the first df in the list\n",
    "img_props_df = props_list[0]\n",
    "# Start looping from the second df in the list\n",
    "for df in props_list[1:]:\n",
    "    img_props_df = img_props_df.merge(df, on=\"label\")\n",
    "\n",
    "# Add each key-value pair from descriptor_dict to props_df at the specified position\n",
    "insertion_position = 0\n",
    "for key, value in descriptor_dict.items():\n",
    "    img_props_df.insert(insertion_position, key, value)\n",
    "    insertion_position += 1  # Increment position to maintain the order of keys in descriptor_dict"
   ]
  },
  {
   "cell_type": "code",
   "execution_count": null,
   "id": "ba928f07",
   "metadata": {},
   "outputs": [],
   "source": [
    "img_props_df"
   ]
  },
  {
   "cell_type": "code",
   "execution_count": null,
   "id": "1eb85199",
   "metadata": {},
   "outputs": [],
   "source": [
    "#TODO: Extract folder_names, loop over them, then loop over each image inside them. Save .csv on a per folder name basis."
   ]
  }
 ],
 "metadata": {
  "kernelspec": {
   "display_name": "brain_nuc_stardist",
   "language": "python",
   "name": "python3"
  },
  "language_info": {
   "codemirror_mode": {
    "name": "ipython",
    "version": 3
   },
   "file_extension": ".py",
   "mimetype": "text/x-python",
   "name": "python",
   "nbconvert_exporter": "python",
   "pygments_lexer": "ipython3",
   "version": "3.10.16"
  }
 },
 "nbformat": 4,
 "nbformat_minor": 5
}
