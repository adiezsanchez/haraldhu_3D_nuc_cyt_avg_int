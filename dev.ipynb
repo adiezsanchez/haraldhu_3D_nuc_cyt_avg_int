{
 "cells": [
  {
   "cell_type": "code",
   "execution_count": 1,
   "id": "d2cf5e1f",
   "metadata": {},
   "outputs": [
    {
     "data": {
      "text/plain": [
       "<NVIDIA GeForce RTX 4090 Laptop GPU on Platform: NVIDIA CUDA (1 refs)>"
      ]
     },
     "execution_count": 1,
     "metadata": {},
     "output_type": "execute_result"
    }
   ],
   "source": [
    "from utils import list_images, read_image, extract_pixel_size\n",
    "from pathlib import Path\n",
    "import napari\n",
    "import pyclesperanto_prototype as cle\n",
    "\n",
    "cle.select_device(\"RTX\")"
   ]
  },
  {
   "cell_type": "code",
   "execution_count": 2,
   "id": "23a04af9",
   "metadata": {},
   "outputs": [
    {
     "data": {
      "text/plain": [
       "['raw_data\\\\condition_1\\\\01.nd2']"
      ]
     },
     "execution_count": 2,
     "metadata": {},
     "output_type": "execute_result"
    }
   ],
   "source": [
    "# Copy the path where your images are stored, you can use absolute or relative paths to point at other disk locations\n",
    "directory_path = Path(\"./raw_data/condition_1\")\n",
    "\n",
    "# Define the channels you want to analyze using the following structure:\n",
    "# markers = [(channel_name, channel_nr, cellular_location),(..., ..., ...)]\n",
    "# cellular locations can be \"nucleus\", \"cytoplasm\" or \"cell\" (cell being the sum volume of nucleus and cytoplasm)\n",
    "# Remember in Python one starts counting from 0, so your first channel will be 0\n",
    "# i.e. markers = [(\"ki67\", 0, \"nucleus\"), (\"neun\", 1, \"cell\"), (\"calbindin\", 2, \"cytoplasm\")]\n",
    "\n",
    "markers = [(\"ki67\", 0, \"nucleus\"), (\"neun\", 1, \"cell\"), (\"calbindin\", 2, \"cytoplasm\")]\n",
    "\n",
    "# Image size reduction (downsampling) to improve processing times (slicing, not lossless compression)\n",
    "# Now, in addition to xy, you can downsample across your z-stack\n",
    "slicing_factor_xy = 4 # Use 2 or 4 for downsampling in xy (None for lossless)\n",
    "slicing_factor_z = 1 # Use 2 to select 1 out of every 2 z-slices\n",
    "\n",
    "# Iterate through the .czi and .nd2 files in the raw_data directory\n",
    "images = list_images(directory_path)\n",
    "\n",
    "images"
   ]
  },
  {
   "cell_type": "code",
   "execution_count": 3,
   "id": "11703fe5",
   "metadata": {},
   "outputs": [
    {
     "name": "stdout",
     "output_type": "stream",
     "text": [
      "\n",
      "\n",
      "Image analyzed: 01\n",
      "Original Array shape: (3, 31, 2720, 2720)\n",
      "Compressed Array shape: (3, 31, 680, 680)\n",
      "Pixel size: 0.065 µm x 0.065 µm\n",
      "Voxel (Z-step) size: 0.200 µm\n"
     ]
    }
   ],
   "source": [
    "image = images[0]\n",
    "\n",
    "img, filename = read_image(image, slicing_factor_xy, slicing_factor_z)\n",
    "\n",
    "pixel_size_x, pixel_size_y, voxel_size_z = extract_pixel_size(images[0])\n",
    "\n",
    "# Correct pixel sizes upon downsampling (slicing_factor =! None)\n",
    "pixel_size_x = pixel_size_x * slicing_factor_xy\n",
    "pixel_size_y = pixel_size_y * slicing_factor_xy\n",
    "voxel_size_z = voxel_size_z * slicing_factor_z"
   ]
  },
  {
   "cell_type": "code",
   "execution_count": 4,
   "id": "4485d9ec",
   "metadata": {},
   "outputs": [
    {
     "data": {
      "text/plain": [
       "(3, 31, 680, 680)"
      ]
     },
     "execution_count": 4,
     "metadata": {},
     "output_type": "execute_result"
    }
   ],
   "source": [
    "img.shape"
   ]
  },
  {
   "cell_type": "code",
   "execution_count": 5,
   "id": "71b73fe5",
   "metadata": {},
   "outputs": [],
   "source": [
    "def make_isotropic(image, scaling_x_um, scaling_y_um, scaling_z_um):\n",
    "    \"\"\"Scale the image with the voxel size used as scaling factor to get an image stack with isotropic voxels\"\"\"\n",
    "    # Set the x and y scaling to 1 to avoid resizing (compressing the input image), this way the rescaling factor is only applied to z\n",
    "    multiplier = 1 / scaling_x_um\n",
    "\n",
    "    scaling_x_um = scaling_x_um * multiplier\n",
    "    scaling_y_um = scaling_y_um * multiplier\n",
    "    scaling_z_um = scaling_z_um * multiplier\n",
    "\n",
    "    image_resampled = cle.scale(\n",
    "        image,\n",
    "        factor_x=scaling_x_um,\n",
    "        factor_y=scaling_y_um,\n",
    "        factor_z=scaling_z_um,\n",
    "        auto_size=True,\n",
    "    )\n",
    "\n",
    "    return image_resampled"
   ]
  },
  {
   "cell_type": "code",
   "execution_count": 17,
   "id": "65b38637",
   "metadata": {},
   "outputs": [],
   "source": [
    "nuclei_resampled = make_isotropic(img[0], pixel_size_x, pixel_size_y, voxel_size_z)\n",
    "\n",
    "# Remove background with a top_hat_filter\n",
    "#background_subtracted = cle.top_hat_box(nuclei_resampled, radius_x=5, radius_y=5, radius_z=5)\n",
    "\n",
    "# Apply gaussian blur to prevent the formation of holes upon labeling\n",
    "post_gaussian = cle.gaussian_blur(nuclei_resampled, sigma_x=2, sigma_y=2, sigma_z=2)\n",
    "\n",
    "# Voronoi-Otsu labeling\n",
    "segmented = cle.voronoi_otsu_labeling(post_gaussian, spot_sigma=10, outline_sigma=1)\n",
    "\n",
    "# Close holes in labels to avoid false emtpy volumes within the nuclei\n",
    "closed_labels = cle.closing_labels(segmented, radius=5)"
   ]
  },
  {
   "cell_type": "code",
   "execution_count": 18,
   "id": "46e3f0d0",
   "metadata": {},
   "outputs": [
    {
     "data": {
      "text/plain": [
       "<Labels layer 'closed_labels' at 0x2288922be50>"
      ]
     },
     "execution_count": 18,
     "metadata": {},
     "output_type": "execute_result"
    }
   ],
   "source": [
    "viewer = napari.Viewer(ndisplay=2)\n",
    "\n",
    "viewer.add_image(nuclei_resampled)\n",
    "viewer.add_labels(closed_labels)"
   ]
  }
 ],
 "metadata": {
  "kernelspec": {
   "display_name": "brain_nuc_stardist",
   "language": "python",
   "name": "python3"
  },
  "language_info": {
   "codemirror_mode": {
    "name": "ipython",
    "version": 3
   },
   "file_extension": ".py",
   "mimetype": "text/x-python",
   "name": "python",
   "nbconvert_exporter": "python",
   "pygments_lexer": "ipython3",
   "version": "3.10.16"
  }
 },
 "nbformat": 4,
 "nbformat_minor": 5
}
