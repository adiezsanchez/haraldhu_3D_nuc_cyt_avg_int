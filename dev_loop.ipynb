{
 "cells": [
  {
   "cell_type": "code",
   "execution_count": 4,
   "id": "d2cf5e1f",
   "metadata": {},
   "outputs": [
    {
     "data": {
      "text/plain": [
       "<NVIDIA GeForce RTX 4090 on Platform: NVIDIA CUDA (2 refs)>"
      ]
     },
     "execution_count": 4,
     "metadata": {},
     "output_type": "execute_result"
    }
   ],
   "source": [
    "from utils import list_images, read_image, extract_pixel_size, correct_pixel_size, make_isotropic, remove_labels_touching_edge, simulate_cytoplasm\n",
    "from pathlib import Path\n",
    "import os\n",
    "from tqdm import tqdm\n",
    "import pyclesperanto_prototype as cle\n",
    "from skimage.measure import regionprops_table\n",
    "import pandas as pd\n",
    "\n",
    "cle.select_device(\"RTX\")"
   ]
  },
  {
   "cell_type": "code",
   "execution_count": 5,
   "id": "23a04af9",
   "metadata": {},
   "outputs": [],
   "source": [
    "# Copy the path where your images are stored, you can use absolute or relative paths to point at other disk locations\n",
    "directory_path = Path(\"./raw_data\")\n",
    "\n",
    "# List of subfolder names\n",
    "subfolder_names = [folder.name for folder in directory_path.iterdir() if folder.is_dir()]\n",
    "\n",
    "# Define the channels you want to analyze using the following structure:\n",
    "# markers = [(channel_name, channel_nr),(..., ...)]\n",
    "# Remember in Python one starts counting from 0, so your first channel will be 0\n",
    "# i.e. markers = [(\"c3neo\", 1), (\"myc-tag\", 2)]\n",
    "\n",
    "markers = [(\"c3neo\", 1), (\"myc-tag\", 2)]\n",
    "nuclei_channel = 0\n",
    "\n",
    "# Image size reduction (downsampling) to improve processing times (slicing, not lossless compression)\n",
    "# Now, in addition to xy, you can downsample across your z-stack\n",
    "slicing_factor_xy = 4 # Use 2 or 4 for downsampling in xy (None for lossless)\n",
    "slicing_factor_z = None # Use 2 to select 1 out of every 2 z-slices"
   ]
  },
  {
   "cell_type": "code",
   "execution_count": 6,
   "id": "11703fe5",
   "metadata": {},
   "outputs": [
    {
     "name": "stdout",
     "output_type": "stream",
     "text": [
      "'results\\raw_data' folder created successfully.\n"
     ]
    },
    {
     "name": "stderr",
     "output_type": "stream",
     "text": [
      "  0%|          | 0/3 [00:00<?, ?it/s]"
     ]
    },
    {
     "name": "stdout",
     "output_type": "stream",
     "text": [
      "\n",
      "Analyzing condition:20250516LPSN120_C3neo_myc_c3 deficent\n"
     ]
    },
    {
     "name": "stderr",
     "output_type": "stream",
     "text": []
    },
    {
     "name": "stdout",
     "output_type": "stream",
     "text": [
      "\n",
      "\n",
      "Image analyzed: 01\n",
      "Original Array shape: (3, 31, 2720, 2720)\n",
      "Compressed Array shape: (3, 31, 680, 680)\n"
     ]
    },
    {
     "name": "stderr",
     "output_type": "stream",
     "text": [
      "\n"
     ]
    },
    {
     "name": "stdout",
     "output_type": "stream",
     "text": [
      "Analyzing channel: c3neo\n",
      "Analyzing channel: myc-tag\n"
     ]
    },
    {
     "name": "stderr",
     "output_type": "stream",
     "text": [
      "  9%|▉         | 1/11 [00:02<00:21,  2.11s/it]\u001b[A"
     ]
    },
    {
     "name": "stdout",
     "output_type": "stream",
     "text": [
      "\n",
      "\n",
      "Image analyzed: 02\n",
      "Original Array shape: (3, 31, 2720, 2720)\n",
      "Compressed Array shape: (3, 31, 680, 680)\n",
      "Analyzing channel: c3neo\n",
      "Analyzing channel: myc-tag\n"
     ]
    },
    {
     "name": "stderr",
     "output_type": "stream",
     "text": []
    },
    {
     "name": "stdout",
     "output_type": "stream",
     "text": [
      "\n",
      "\n",
      "Image analyzed: 03\n",
      "Original Array shape: (3, 31, 2720, 2720)\n",
      "Compressed Array shape: (3, 31, 680, 680)\n",
      "Analyzing channel: c3neo\n",
      "Analyzing channel: myc-tag\n"
     ]
    },
    {
     "name": "stderr",
     "output_type": "stream",
     "text": []
    },
    {
     "name": "stdout",
     "output_type": "stream",
     "text": [
      "\n",
      "\n",
      "Image analyzed: 04\n",
      "Original Array shape: (3, 31, 2720, 2720)\n",
      "Compressed Array shape: (3, 31, 680, 680)\n"
     ]
    },
    {
     "name": "stderr",
     "output_type": "stream",
     "text": [
      "\n"
     ]
    },
    {
     "name": "stdout",
     "output_type": "stream",
     "text": [
      "Analyzing channel: c3neo\n",
      "Analyzing channel: myc-tag\n"
     ]
    },
    {
     "name": "stderr",
     "output_type": "stream",
     "text": [
      " 36%|███▋      | 4/11 [00:08<00:15,  2.19s/it]\u001b[A"
     ]
    },
    {
     "name": "stdout",
     "output_type": "stream",
     "text": [
      "\n",
      "\n",
      "Image analyzed: 05\n",
      "Original Array shape: (3, 31, 2720, 2720)\n",
      "Compressed Array shape: (3, 31, 680, 680)\n"
     ]
    },
    {
     "name": "stderr",
     "output_type": "stream",
     "text": [
      "\n"
     ]
    },
    {
     "name": "stdout",
     "output_type": "stream",
     "text": [
      "Analyzing channel: c3neo\n",
      "Analyzing channel: myc-tag\n"
     ]
    },
    {
     "name": "stderr",
     "output_type": "stream",
     "text": [
      " 45%|████▌     | 5/11 [00:10<00:12,  2.06s/it]\u001b[A"
     ]
    },
    {
     "name": "stdout",
     "output_type": "stream",
     "text": [
      "\n",
      "\n",
      "Image analyzed: 06\n",
      "Original Array shape: (3, 31, 2720, 2720)\n",
      "Compressed Array shape: (3, 31, 680, 680)\n"
     ]
    },
    {
     "name": "stderr",
     "output_type": "stream",
     "text": [
      "\n"
     ]
    },
    {
     "name": "stdout",
     "output_type": "stream",
     "text": [
      "Analyzing channel: c3neo\n",
      "Analyzing channel: myc-tag\n"
     ]
    },
    {
     "name": "stderr",
     "output_type": "stream",
     "text": [
      " 55%|█████▍    | 6/11 [00:12<00:09,  2.00s/it]\u001b[A"
     ]
    },
    {
     "name": "stdout",
     "output_type": "stream",
     "text": [
      "\n",
      "\n",
      "Image analyzed: 07\n",
      "Original Array shape: (3, 31, 2720, 2720)\n",
      "Compressed Array shape: (3, 31, 680, 680)\n",
      "Analyzing channel: c3neo\n",
      "Analyzing channel: myc-tag\n"
     ]
    },
    {
     "name": "stderr",
     "output_type": "stream",
     "text": []
    },
    {
     "name": "stdout",
     "output_type": "stream",
     "text": [
      "\n",
      "\n",
      "Image analyzed: 08\n",
      "Original Array shape: (3, 31, 2720, 2720)\n",
      "Compressed Array shape: (3, 31, 680, 680)\n"
     ]
    },
    {
     "name": "stderr",
     "output_type": "stream",
     "text": [
      "\n"
     ]
    },
    {
     "name": "stdout",
     "output_type": "stream",
     "text": [
      "Analyzing channel: c3neo\n",
      "Analyzing channel: myc-tag\n"
     ]
    },
    {
     "name": "stderr",
     "output_type": "stream",
     "text": [
      " 73%|███████▎  | 8/11 [00:16<00:06,  2.08s/it]\u001b[A"
     ]
    },
    {
     "name": "stdout",
     "output_type": "stream",
     "text": [
      "\n",
      "\n",
      "Image analyzed: 09\n",
      "Original Array shape: (3, 31, 2720, 2720)\n",
      "Compressed Array shape: (3, 31, 680, 680)\n"
     ]
    },
    {
     "name": "stderr",
     "output_type": "stream",
     "text": [
      "\n"
     ]
    },
    {
     "name": "stdout",
     "output_type": "stream",
     "text": [
      "Analyzing channel: c3neo\n",
      "Analyzing channel: myc-tag\n"
     ]
    },
    {
     "name": "stderr",
     "output_type": "stream",
     "text": [
      " 82%|████████▏ | 9/11 [00:18<00:03,  1.99s/it]\u001b[A"
     ]
    },
    {
     "name": "stdout",
     "output_type": "stream",
     "text": [
      "\n",
      "\n",
      "Image analyzed: 10\n",
      "Original Array shape: (3, 31, 2720, 2720)\n",
      "Compressed Array shape: (3, 31, 680, 680)\n"
     ]
    },
    {
     "name": "stderr",
     "output_type": "stream",
     "text": [
      "\n"
     ]
    },
    {
     "name": "stdout",
     "output_type": "stream",
     "text": [
      "Analyzing channel: c3neo\n",
      "Analyzing channel: myc-tag\n"
     ]
    },
    {
     "name": "stderr",
     "output_type": "stream",
     "text": [
      " 91%|█████████ | 10/11 [00:20<00:02,  2.03s/it]\u001b[A"
     ]
    },
    {
     "name": "stdout",
     "output_type": "stream",
     "text": [
      "\n",
      "\n",
      "Image analyzed: 11\n",
      "Original Array shape: (3, 31, 2720, 2720)\n",
      "Compressed Array shape: (3, 31, 680, 680)\n"
     ]
    },
    {
     "name": "stderr",
     "output_type": "stream",
     "text": [
      "\n"
     ]
    },
    {
     "name": "stdout",
     "output_type": "stream",
     "text": [
      "Analyzing channel: c3neo\n",
      "Analyzing channel: myc-tag\n"
     ]
    },
    {
     "name": "stderr",
     "output_type": "stream",
     "text": [
      "100%|██████████| 11/11 [00:22<00:00,  2.03s/it]\u001b[A\n",
      " 33%|███▎      | 1/3 [00:22<00:44, 22.38s/it]"
     ]
    },
    {
     "name": "stdout",
     "output_type": "stream",
     "text": [
      "\n",
      "Analyzing condition:20250516LPSN120_C3neo_myc_rescue\n"
     ]
    },
    {
     "name": "stderr",
     "output_type": "stream",
     "text": []
    },
    {
     "name": "stdout",
     "output_type": "stream",
     "text": [
      "\n",
      "\n",
      "Image analyzed: 01\n",
      "Original Array shape: (3, 31, 2720, 2720)\n",
      "Compressed Array shape: (3, 31, 680, 680)\n"
     ]
    },
    {
     "name": "stderr",
     "output_type": "stream",
     "text": [
      "\n"
     ]
    },
    {
     "name": "stdout",
     "output_type": "stream",
     "text": [
      "Analyzing channel: c3neo\n",
      "Analyzing channel: myc-tag\n"
     ]
    },
    {
     "name": "stderr",
     "output_type": "stream",
     "text": [
      "  9%|▉         | 1/11 [00:01<00:17,  1.78s/it]\u001b[A"
     ]
    },
    {
     "name": "stdout",
     "output_type": "stream",
     "text": [
      "\n",
      "\n",
      "Image analyzed: 02\n",
      "Original Array shape: (3, 31, 2720, 2720)\n",
      "Compressed Array shape: (3, 31, 680, 680)\n",
      "Analyzing channel: c3neo\n",
      "Analyzing channel: myc-tag\n"
     ]
    },
    {
     "name": "stderr",
     "output_type": "stream",
     "text": []
    },
    {
     "name": "stdout",
     "output_type": "stream",
     "text": [
      "\n",
      "\n",
      "Image analyzed: 03\n",
      "Original Array shape: (3, 31, 2720, 2720)\n",
      "Compressed Array shape: (3, 31, 680, 680)\n"
     ]
    },
    {
     "name": "stderr",
     "output_type": "stream",
     "text": [
      "\n"
     ]
    },
    {
     "name": "stdout",
     "output_type": "stream",
     "text": [
      "Analyzing channel: c3neo\n",
      "Analyzing channel: myc-tag\n"
     ]
    },
    {
     "name": "stderr",
     "output_type": "stream",
     "text": [
      " 27%|██▋       | 3/11 [00:05<00:14,  1.85s/it]\u001b[A"
     ]
    },
    {
     "name": "stdout",
     "output_type": "stream",
     "text": [
      "\n",
      "\n",
      "Image analyzed: 04\n",
      "Original Array shape: (3, 31, 2720, 2720)\n",
      "Compressed Array shape: (3, 31, 680, 680)\n"
     ]
    },
    {
     "name": "stderr",
     "output_type": "stream",
     "text": [
      "\n"
     ]
    },
    {
     "name": "stdout",
     "output_type": "stream",
     "text": [
      "Analyzing channel: c3neo\n",
      "Analyzing channel: myc-tag\n"
     ]
    },
    {
     "name": "stderr",
     "output_type": "stream",
     "text": [
      " 36%|███▋      | 4/11 [00:07<00:12,  1.83s/it]\u001b[A"
     ]
    },
    {
     "name": "stdout",
     "output_type": "stream",
     "text": [
      "\n",
      "\n",
      "Image analyzed: 05\n",
      "Original Array shape: (3, 31, 2720, 2720)\n",
      "Compressed Array shape: (3, 31, 680, 680)\n",
      "Analyzing channel: c3neo\n",
      "Analyzing channel: myc-tag\n"
     ]
    },
    {
     "name": "stderr",
     "output_type": "stream",
     "text": []
    },
    {
     "name": "stdout",
     "output_type": "stream",
     "text": [
      "\n",
      "\n",
      "Image analyzed: 06\n",
      "Original Array shape: (3, 31, 2720, 2720)\n",
      "Compressed Array shape: (3, 31, 680, 680)\n"
     ]
    },
    {
     "name": "stderr",
     "output_type": "stream",
     "text": [
      "\n"
     ]
    },
    {
     "name": "stdout",
     "output_type": "stream",
     "text": [
      "Analyzing channel: c3neo\n",
      "Analyzing channel: myc-tag\n"
     ]
    },
    {
     "name": "stderr",
     "output_type": "stream",
     "text": [
      " 55%|█████▍    | 6/11 [00:11<00:09,  1.96s/it]\u001b[A"
     ]
    },
    {
     "name": "stdout",
     "output_type": "stream",
     "text": [
      "\n",
      "\n",
      "Image analyzed: 07\n",
      "Original Array shape: (3, 31, 2720, 2720)\n",
      "Compressed Array shape: (3, 31, 680, 680)\n"
     ]
    },
    {
     "name": "stderr",
     "output_type": "stream",
     "text": []
    },
    {
     "name": "stdout",
     "output_type": "stream",
     "text": [
      "Analyzing channel: c3neo\n",
      "Analyzing channel: myc-tag\n",
      "\n",
      "\n",
      "Image analyzed: 08\n",
      "Original Array shape: (3, 31, 2720, 2720)\n",
      "Compressed Array shape: (3, 31, 680, 680)\n"
     ]
    },
    {
     "name": "stderr",
     "output_type": "stream",
     "text": [
      "\n"
     ]
    },
    {
     "name": "stdout",
     "output_type": "stream",
     "text": [
      "Analyzing channel: c3neo\n",
      "Analyzing channel: myc-tag\n"
     ]
    },
    {
     "name": "stderr",
     "output_type": "stream",
     "text": [
      " 73%|███████▎  | 8/11 [00:15<00:05,  1.91s/it]\u001b[A"
     ]
    },
    {
     "name": "stdout",
     "output_type": "stream",
     "text": [
      "\n",
      "\n",
      "Image analyzed: 09\n",
      "Original Array shape: (3, 31, 2720, 2720)\n",
      "Compressed Array shape: (3, 31, 680, 680)\n",
      "Analyzing channel: c3neo\n",
      "Analyzing channel: myc-tag\n"
     ]
    },
    {
     "name": "stderr",
     "output_type": "stream",
     "text": []
    },
    {
     "name": "stdout",
     "output_type": "stream",
     "text": [
      "\n",
      "\n",
      "Image analyzed: 10\n",
      "Original Array shape: (3, 31, 2720, 2720)\n",
      "Compressed Array shape: (3, 31, 680, 680)\n"
     ]
    },
    {
     "name": "stderr",
     "output_type": "stream",
     "text": []
    },
    {
     "name": "stdout",
     "output_type": "stream",
     "text": [
      "Analyzing channel: c3neo\n",
      "Analyzing channel: myc-tag\n",
      "\n",
      "\n",
      "Image analyzed: 11\n",
      "Original Array shape: (3, 31, 2720, 2720)\n",
      "Compressed Array shape: (3, 31, 680, 680)\n"
     ]
    },
    {
     "name": "stderr",
     "output_type": "stream",
     "text": [
      "\n"
     ]
    },
    {
     "name": "stdout",
     "output_type": "stream",
     "text": [
      "Analyzing channel: c3neo\n",
      "Analyzing channel: myc-tag\n"
     ]
    },
    {
     "name": "stderr",
     "output_type": "stream",
     "text": [
      "100%|██████████| 11/11 [00:20<00:00,  1.91s/it]\u001b[A\n",
      " 67%|██████▋   | 2/3 [00:43<00:21, 21.57s/it]"
     ]
    },
    {
     "name": "stdout",
     "output_type": "stream",
     "text": [
      "\n",
      "Analyzing condition:20250516LPSN120_C3neo_myc_wt\n"
     ]
    },
    {
     "name": "stderr",
     "output_type": "stream",
     "text": []
    },
    {
     "name": "stdout",
     "output_type": "stream",
     "text": [
      "\n",
      "\n",
      "Image analyzed: 01\n",
      "Original Array shape: (3, 31, 2720, 2720)\n",
      "Compressed Array shape: (3, 31, 680, 680)\n",
      "Analyzing channel: c3neo\n",
      "Analyzing channel: myc-tag\n"
     ]
    },
    {
     "name": "stderr",
     "output_type": "stream",
     "text": []
    },
    {
     "name": "stdout",
     "output_type": "stream",
     "text": [
      "\n",
      "\n",
      "Image analyzed: 02\n",
      "Original Array shape: (3, 31, 2720, 2720)\n",
      "Compressed Array shape: (3, 31, 680, 680)\n"
     ]
    },
    {
     "name": "stderr",
     "output_type": "stream",
     "text": [
      "\n"
     ]
    },
    {
     "name": "stdout",
     "output_type": "stream",
     "text": [
      "Analyzing channel: c3neo\n",
      "Analyzing channel: myc-tag\n"
     ]
    },
    {
     "name": "stderr",
     "output_type": "stream",
     "text": [
      " 18%|█▊        | 2/11 [00:04<00:18,  2.11s/it]\u001b[A"
     ]
    },
    {
     "name": "stdout",
     "output_type": "stream",
     "text": [
      "\n",
      "\n",
      "Image analyzed: 03\n",
      "Original Array shape: (3, 31, 2720, 2720)\n",
      "Compressed Array shape: (3, 31, 680, 680)\n"
     ]
    },
    {
     "name": "stderr",
     "output_type": "stream",
     "text": [
      "\n"
     ]
    },
    {
     "name": "stdout",
     "output_type": "stream",
     "text": [
      "Analyzing channel: c3neo\n",
      "Analyzing channel: myc-tag\n"
     ]
    },
    {
     "name": "stderr",
     "output_type": "stream",
     "text": [
      " 27%|██▋       | 3/11 [00:06<00:15,  1.98s/it]\u001b[A"
     ]
    },
    {
     "name": "stdout",
     "output_type": "stream",
     "text": [
      "\n",
      "\n",
      "Image analyzed: 04\n",
      "Original Array shape: (3, 31, 2720, 2720)\n",
      "Compressed Array shape: (3, 31, 680, 680)\n",
      "Analyzing channel: c3neo\n",
      "Analyzing channel: myc-tag\n"
     ]
    },
    {
     "name": "stderr",
     "output_type": "stream",
     "text": []
    },
    {
     "name": "stdout",
     "output_type": "stream",
     "text": [
      "\n",
      "\n",
      "Image analyzed: 05\n",
      "Original Array shape: (3, 31, 2720, 2720)\n",
      "Compressed Array shape: (3, 31, 680, 680)\n",
      "Analyzing channel: c3neo\n",
      "Analyzing channel: myc-tag\n"
     ]
    },
    {
     "name": "stderr",
     "output_type": "stream",
     "text": []
    },
    {
     "name": "stdout",
     "output_type": "stream",
     "text": [
      "\n",
      "\n",
      "Image analyzed: 06\n",
      "Original Array shape: (3, 31, 2720, 2720)\n",
      "Compressed Array shape: (3, 31, 680, 680)\n"
     ]
    },
    {
     "name": "stderr",
     "output_type": "stream",
     "text": [
      "\n"
     ]
    },
    {
     "name": "stdout",
     "output_type": "stream",
     "text": [
      "Analyzing channel: c3neo\n",
      "Analyzing channel: myc-tag\n"
     ]
    },
    {
     "name": "stderr",
     "output_type": "stream",
     "text": [
      " 55%|█████▍    | 6/11 [00:12<00:09,  1.96s/it]\u001b[A"
     ]
    },
    {
     "name": "stdout",
     "output_type": "stream",
     "text": [
      "\n",
      "\n",
      "Image analyzed: 07\n",
      "Original Array shape: (3, 31, 2720, 2720)\n",
      "Compressed Array shape: (3, 31, 680, 680)\n",
      "Analyzing channel: c3neo\n",
      "Analyzing channel: myc-tag\n"
     ]
    },
    {
     "name": "stderr",
     "output_type": "stream",
     "text": []
    },
    {
     "name": "stdout",
     "output_type": "stream",
     "text": [
      "\n",
      "\n",
      "Image analyzed: 08\n",
      "Original Array shape: (3, 31, 2720, 2720)\n",
      "Compressed Array shape: (3, 31, 680, 680)\n",
      "Analyzing channel: c3neo\n",
      "Analyzing channel: myc-tag\n"
     ]
    },
    {
     "name": "stderr",
     "output_type": "stream",
     "text": []
    },
    {
     "name": "stdout",
     "output_type": "stream",
     "text": [
      "\n",
      "\n",
      "Image analyzed: 09\n",
      "Original Array shape: (3, 31, 2720, 2720)\n",
      "Compressed Array shape: (3, 31, 680, 680)\n"
     ]
    },
    {
     "name": "stderr",
     "output_type": "stream",
     "text": [
      "\n"
     ]
    },
    {
     "name": "stdout",
     "output_type": "stream",
     "text": [
      "Analyzing channel: c3neo\n",
      "Analyzing channel: myc-tag\n"
     ]
    },
    {
     "name": "stderr",
     "output_type": "stream",
     "text": [
      " 82%|████████▏ | 9/11 [00:18<00:04,  2.07s/it]\u001b[A"
     ]
    },
    {
     "name": "stdout",
     "output_type": "stream",
     "text": [
      "\n",
      "\n",
      "Image analyzed: 10\n",
      "Original Array shape: (3, 31, 2720, 2720)\n",
      "Compressed Array shape: (3, 31, 680, 680)\n"
     ]
    },
    {
     "name": "stderr",
     "output_type": "stream",
     "text": [
      "\n"
     ]
    },
    {
     "name": "stdout",
     "output_type": "stream",
     "text": [
      "Analyzing channel: c3neo\n",
      "Analyzing channel: myc-tag\n"
     ]
    },
    {
     "name": "stderr",
     "output_type": "stream",
     "text": [
      " 91%|█████████ | 10/11 [00:20<00:02,  2.00s/it]\u001b[A"
     ]
    },
    {
     "name": "stdout",
     "output_type": "stream",
     "text": [
      "\n",
      "\n",
      "Image analyzed: 11\n",
      "Original Array shape: (3, 31, 2720, 2720)\n",
      "Compressed Array shape: (3, 31, 680, 680)\n",
      "Analyzing channel: c3neo\n",
      "Analyzing channel: myc-tag\n"
     ]
    },
    {
     "name": "stderr",
     "output_type": "stream",
     "text": [
      "100%|██████████| 11/11 [00:22<00:00,  2.03s/it]\n",
      "100%|██████████| 3/3 [01:05<00:00, 21.89s/it]\n"
     ]
    }
   ],
   "source": [
    "# Extract the experiment name from the data directory path\n",
    "experiment_id = directory_path.name\n",
    "\n",
    "# Create a 'results' folder in the root directory\n",
    "results_folder = Path(\"results\") / experiment_id \n",
    "\n",
    "try:\n",
    "    os.makedirs(results_folder)\n",
    "    print(f\"'{results_folder}' folder created successfully.\")\n",
    "except FileExistsError:\n",
    "    print(f\"'{results_folder}' folder already exists.\")\n",
    "\n",
    "for folder_name in tqdm(subfolder_names):\n",
    "\n",
    "    print(f'\\nAnalyzing condition:{folder_name}')\n",
    "\n",
    "    subfolder_path = directory_path / folder_name\n",
    "\n",
    "    # Iterate through the .czi and .nd2 files in the subfolder directory\n",
    "    images = list_images(subfolder_path)\n",
    "\n",
    "    # Empty list to hold the per image dataframes\n",
    "    df_imgs_list = []\n",
    "\n",
    "    for image in tqdm(images):\n",
    "\n",
    "        img, filename = read_image(image, slicing_factor_xy, slicing_factor_z)\n",
    "\n",
    "        # Obtain xyz pixel (voxel) size from image metadata (nd2 files)\n",
    "        voxel_size = extract_pixel_size(images[0])\n",
    "\n",
    "        # Correct pixel size if slicing is applied\n",
    "        pixel_size_x, pixel_size_y, voxel_size_z = correct_pixel_size(voxel_size, slicing_factor_xy, slicing_factor_z)\n",
    "\n",
    "        nuclei_resampled = make_isotropic(img[nuclei_channel], pixel_size_x, pixel_size_y, voxel_size_z)\n",
    "\n",
    "        # Remove background with a top_hat_filter\n",
    "        #background_subtracted = cle.top_hat_box(nuclei_resampled, radius_x=5, radius_y=5, radius_z=5)\n",
    "\n",
    "        # Apply gaussian blur to prevent the formation of holes upon labeling\n",
    "        post_gaussian = cle.gaussian_blur(nuclei_resampled, sigma_x=2, sigma_y=2, sigma_z=2)\n",
    "\n",
    "        # Voronoi-Otsu labeling\n",
    "        segmented = cle.voronoi_otsu_labeling(post_gaussian, spot_sigma=10, outline_sigma=1)\n",
    "\n",
    "        # Close holes in labels to avoid false emtpy volumes within the nuclei\n",
    "        segmented = cle.closing_labels(segmented, radius=5)\n",
    "\n",
    "        # Remove labels touching image xy borders\n",
    "        nuclei_labels = remove_labels_touching_edge(segmented.get())\n",
    "\n",
    "        # Simulate cytoplasm\n",
    "        cytoplasm_labels = simulate_cytoplasm(nuclei_labels, dilation_radius=10)\n",
    "\n",
    "        # Create an  empty list to hold the per channel info\n",
    "        props_list = []\n",
    "\n",
    "        # Create a dictionary containing all image descriptors\n",
    "        descriptor_dict = {\"filename\": filename, \"condition\": folder_name}\n",
    "\n",
    "        # Loop through each channel, resample it and extract the average intensity within nuclei and cytoplasm\n",
    "        for channel_name, ch_nr in markers:\n",
    "            print(f\"Analyzing channel: {channel_name}\")\n",
    "\n",
    "            # Resample marker and transform into numpy array\n",
    "            marker_resampled = make_isotropic(img[ch_nr], pixel_size_x, pixel_size_y, voxel_size_z).get()\n",
    "\n",
    "            # Extract intensity information from each marker channel\n",
    "            nuclei_props = regionprops_table(label_image=nuclei_labels,\n",
    "                                    intensity_image=marker_resampled,\n",
    "                                    properties=[\"label\", \"intensity_mean\"])\n",
    "            \n",
    "            # Extract intensity information from each marker channel\n",
    "            cyto_props = regionprops_table(label_image=cytoplasm_labels,\n",
    "                                    intensity_image=marker_resampled,\n",
    "                                    properties=[\"label\", \"intensity_mean\"])\n",
    "            \n",
    "            # Convert to dataframe\n",
    "            nuclei_props_df = pd.DataFrame(nuclei_props)\n",
    "            cyto_props_df = pd.DataFrame(cyto_props)\n",
    "\n",
    "            # Rename intensity_mean column to indicate the specific image\n",
    "            nuclei_props_df.rename(columns={\"intensity_mean\": f\"nuclei_{channel_name}_avg_int\"}, inplace=True)\n",
    "            cyto_props_df.rename(columns={\"intensity_mean\": f\"cyto_{channel_name}_avg_int\"}, inplace=True)\n",
    "\n",
    "            # Merge nuclei and cyto on label\n",
    "            props_df = pd.merge(nuclei_props_df, cyto_props_df, on='label')\n",
    "\n",
    "            # Append each props_df to props_list\n",
    "            props_list.append(props_df)\n",
    "\n",
    "        # Initialize the df with the first df in the list\n",
    "        img_props_df = props_list[0]\n",
    "        # Start looping from the second df in the list\n",
    "        for df in props_list[1:]:\n",
    "            img_props_df = img_props_df.merge(df, on=\"label\")\n",
    "\n",
    "        # Add each key-value pair from descriptor_dict to props_df at the specified position\n",
    "        insertion_position = 0\n",
    "        for key, value in descriptor_dict.items():\n",
    "            img_props_df.insert(insertion_position, key, value)\n",
    "            insertion_position += 1  # Increment position to maintain the order of keys in descriptor_dict\n",
    "\n",
    "        # Append each img_props_df into the list containing the per_image info\n",
    "        df_imgs_list.append(img_props_df)\n",
    "\n",
    "    # Concatenate all per_img_props into final_df\n",
    "    final_df = pd.concat(df_imgs_list, ignore_index=True)\n",
    "\n",
    "    # Save the df containing per_label results into a CSV file\n",
    "    final_df.to_csv(results_folder / f'{folder_name}_per_label_avg_int.csv')"
   ]
  }
 ],
 "metadata": {
  "kernelspec": {
   "display_name": "brain_nuc_stardist",
   "language": "python",
   "name": "python3"
  },
  "language_info": {
   "codemirror_mode": {
    "name": "ipython",
    "version": 3
   },
   "file_extension": ".py",
   "mimetype": "text/x-python",
   "name": "python",
   "nbconvert_exporter": "python",
   "pygments_lexer": "ipython3",
   "version": "3.10.16"
  }
 },
 "nbformat": 4,
 "nbformat_minor": 5
}
